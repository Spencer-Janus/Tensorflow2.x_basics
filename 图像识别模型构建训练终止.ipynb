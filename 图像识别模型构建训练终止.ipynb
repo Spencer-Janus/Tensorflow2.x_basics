{
 "cells": [
  {
   "cell_type": "code",
   "execution_count": 3,
   "metadata": {},
   "outputs": [
    {
     "name": "stdout",
     "output_type": "stream",
     "text": [
      "Train on 60000 samples\n",
      "Epoch 1/5\n",
      "60000/60000 [==============================] - 2s 38us/sample - loss: 0.4996 - accuracy: 0.8257\n",
      "Epoch 2/5\n",
      "59392/60000 [============================>.] - ETA: 0s - loss: 0.3744 - accuracy: 0.8669\n",
      "loss is low to cancelling train\n",
      "60000/60000 [==============================] - 2s 36us/sample - loss: 0.3742 - accuracy: 0.8669\n"
     ]
    },
    {
     "data": {
      "text/plain": [
       "<tensorflow.python.keras.callbacks.History at 0x1fd33c79ec8>"
      ]
     },
     "execution_count": 3,
     "metadata": {},
     "output_type": "execute_result"
    }
   ],
   "source": [
    "import tensorflow as tf\n",
    "from tensorflow import keras\n",
    "class myCallback(tf.keras.callbacks.Callback):\n",
    "    def on_epoch_end(self,epoch,logs={}):\n",
    "        if(logs.get('loss')<0.4):\n",
    "            print(\"\\nloss is low to cancelling train\")\n",
    "            self.model.stop_training=True\n",
    "callbacks=myCallback()\n",
    "fashion_mnist=keras.datasets.fashion_mnist\n",
    "(train_images,train_labels),(test_images,test_labels)=fashion_mnist.load_data()\n",
    "model=keras.Sequential()\n",
    "model.add(keras.layers.Flatten(input_shape=(28,28)))#输入层\n",
    "model.add(keras.layers.Dense(128,activation=tf.nn.relu))#中间层 128个神经元 激活函数relu\n",
    "model.add(keras.layers.Dense(10,activation=tf.nn.softmax))#输出层10个类别 激活函数softmax\n",
    "#指定优化方法\n",
    "train_images=train_images/255\n",
    "model.compile(optimizer=tf.optimizers.Adam(),loss=tf.losses.sparse_categorical_crossentropy,metrics=['accuracy'])\n",
    "#Adam是常用的优化，结果是类别判断的时候就会用categorical，整数用sprase，onehot不带sprase\n",
    "#训练\n",
    "model.fit(train_images,train_labels,epochs=5,callbacks=[callbacks])\n"
   ]
  },
  {
   "cell_type": "code",
   "execution_count": null,
   "metadata": {},
   "outputs": [],
   "source": []
  }
 ],
 "metadata": {
  "kernelspec": {
   "display_name": "Python 3",
   "language": "python",
   "name": "python3"
  },
  "language_info": {
   "codemirror_mode": {
    "name": "ipython",
    "version": 3
   },
   "file_extension": ".py",
   "mimetype": "text/x-python",
   "name": "python",
   "nbconvert_exporter": "python",
   "pygments_lexer": "ipython3",
   "version": "3.7.9"
  }
 },
 "nbformat": 4,
 "nbformat_minor": 4
}
